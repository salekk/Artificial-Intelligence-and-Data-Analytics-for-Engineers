{
 "cells": [
  {
   "cell_type": "markdown",
   "metadata": {},
   "source": [
    "# Exercise 5\n"
   ]
  },
  {
   "cell_type": "code",
   "execution_count": 32,
   "metadata": {},
   "outputs": [],
   "source": [
    "from sklearn.feature_extraction.text import CountVectorizer\n"
   ]
  },
  {
   "cell_type": "markdown",
   "metadata": {},
   "source": [
    "## Task 1)"
   ]
  },
  {
   "cell_type": "code",
   "execution_count": 49,
   "metadata": {},
   "outputs": [],
   "source": [
    "#a)\n",
    "with open(\"speech.txt\", \"r\") as f:\n",
    "    sentences = f.read().split(\".\")\n",
    "    sentences = [sentence.strip() for sentence in sentences if sentence.strip()]\n",
    "    \n",
    "    vectorizer = CountVectorizer()\n",
    "    X = vectorizer.fit_transform(sentences)\n",
    "    sums = np.array(X.sum(0)).ravel()\n",
    "    maximum_elements = np.argsort(-sums)[:10]\n",
    "    \n",
    "    feature_names = vectorizer.get_feature_names()\n",
    "    maximum_names = [feature_names[i] for i in maximum_elements]\n",
    "\n",
    "    "
   ]
  },
  {
   "cell_type": "code",
   "execution_count": 50,
   "metadata": {},
   "outputs": [
    {
     "data": {
      "text/plain": [
       "['the', 'and', 'of', 'to', 'we', 'this', 'in', 'be', 'for', 'that']"
      ]
     },
     "execution_count": 50,
     "metadata": {},
     "output_type": "execute_result"
    }
   ],
   "source": [
    "maximum_names"
   ]
  },
  {
   "cell_type": "code",
   "execution_count": 69,
   "metadata": {},
   "outputs": [],
   "source": [
    "#b)\n",
    "\n",
    "def bag_of_words(text):\n",
    "    sentences = text.split(\".\")\n",
    "    sentences = [sentence.strip() for sentence in sentences if sentence.strip()]\n",
    "    sentences = [sentence.replace(\".\",\"\") for sentence in sentences]\n",
    "   \n",
    "    clean_text = \" \".join(sentences)\n",
    "    \n",
    "    words = set(clean_text.split(\" \"))\n",
    "    words_dict = {word: index for index, word in enumerate(words)}\n",
    "    \n",
    "    bag = np.zeros((len(sentences), len(words)))\n",
    "    \n",
    "    for index, sentence in enumerate(sentences):\n",
    "        sentence_words = sentence.split(\" \")\n",
    "        for word in sentence_words:\n",
    "            bag[index, words_dict[word]] += 1\n",
    "            \n",
    "    return bag\n",
    "    "
   ]
  },
  {
   "cell_type": "code",
   "execution_count": 71,
   "metadata": {},
   "outputs": [
    {
     "name": "stdout",
     "output_type": "stream",
     "text": [
      "[[1. 1. 1. 1. 0. 0.]\n",
      " [0. 1. 1. 1. 1. 2.]]\n"
     ]
    }
   ],
   "source": [
    "t = \"This is a test. This is a sentence too too\"\n",
    "print(bag_of_words(t))"
   ]
  },
  {
   "cell_type": "markdown",
   "metadata": {},
   "source": [
    "## Task 2)"
   ]
  },
  {
   "cell_type": "code",
   "execution_count": null,
   "metadata": {},
   "outputs": [],
   "source": [
    "#2.a)\n",
    "#Dataset 1 - Both of Them\n",
    "#Dataset 2 - None of them\n",
    "#Dataset 3 - pca\n",
    "#Dataset 4 - lda\n"
   ]
  },
  {
   "cell_type": "code",
   "execution_count": 72,
   "metadata": {},
   "outputs": [],
   "source": [
    "#2.b)"
   ]
  },
  {
   "cell_type": "code",
   "execution_count": 95,
   "metadata": {},
   "outputs": [
    {
     "data": {
      "text/plain": [
       "Text(0.5, 1.0, 'LDA of the Iris dataset')"
      ]
     },
     "execution_count": 95,
     "metadata": {},
     "output_type": "execute_result"
    },
    {
     "data": {
      "image/png": "[encoded data removed]",
      "text/plain": [
       "<Figure size 432x288 with 1 Axes>"
      ]
     },
     "metadata": {
      "needs_background": "light"
     },
     "output_type": "display_data"
    }
   ],
   "source": [
    "from sklearn.datasets import load_iris\n",
    "from sklearn.discriminant_analysis import LinearDiscriminantAnalysis as LDA\n",
    "import matplotlib.pyplot as plt\n",
    "\n",
    "iris = load_iris()\n",
    "X = iris.data\n",
    "y = iris.target\n",
    "target_names = iris.target_names\n",
    "\n",
    "lda = LDA(n_components=2)\n",
    "X_transformed = lda.fit(X,y).transform(X)\n",
    "\n",
    "plt.figure()\n",
    "for target in set(y):\n",
    "    target_indices = y == target\n",
    "    plt.scatter(X_transformed[target_indices, 0], X_transformed[target_indices, 1], label = target_names[target])\n",
    "    \n",
    "plt.legend()\n",
    "plt.title(\"LDA of the Iris dataset\")\n"
   ]
  },
  {
   "cell_type": "code",
   "execution_count": null,
   "metadata": {},
   "outputs": [],
   "source": []
  }
 ],
 "metadata": {
  "kernelspec": {
   "display_name": "Python 3",
   "language": "python",
   "name": "python3"
  },
  "language_info": {
   "codemirror_mode": {
    "name": "ipython",
    "version": 3
   },
   "file_extension": ".py",
   "mimetype": "text/x-python",
   "name": "python",
   "nbconvert_exporter": "python",
   "pygments_lexer": "ipython3",
   "version": "3.7.6"
  }
 },
 "nbformat": 4,
 "nbformat_minor": 4
}
