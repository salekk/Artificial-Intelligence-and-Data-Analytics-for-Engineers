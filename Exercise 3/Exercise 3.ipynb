{
 "cells": [
  {
   "cell_type": "markdown",
   "metadata": {},
   "source": [
    "# Exercise 3\n",
    "## Task 1"
   ]
  },
  {
   "cell_type": "code",
   "execution_count": 4,
   "metadata": {},
   "outputs": [],
   "source": [
    "import matplotlib as mpl\n",
    "import matplotlib.pyplot as plt\n",
    "import seaborn as sns\n",
    "sns.set_style('whitegrid')\n",
    "\n",
    "%matplotlib inline\n",
    "\n",
    "import pandas as pd"
   ]
  },
  {
   "cell_type": "code",
   "execution_count": 5,
   "metadata": {
    "scrolled": true
   },
   "outputs": [
    {
     "data": {
      "text/html": [
       "<div>\n",
       "<style scoped>\n",
       "    .dataframe tbody tr th:only-of-type {\n",
       "        vertical-align: middle;\n",
       "    }\n",
       "\n",
       "    .dataframe tbody tr th {\n",
       "        vertical-align: top;\n",
       "    }\n",
       "\n",
       "    .dataframe thead th {\n",
       "        text-align: right;\n",
       "    }\n",
       "</style>\n",
       "<table border=\"1\" class=\"dataframe\">\n",
       "  <thead>\n",
       "    <tr style=\"text-align: right;\">\n",
       "      <th></th>\n",
       "      <th>AT</th>\n",
       "      <th>V</th>\n",
       "      <th>AP</th>\n",
       "      <th>RH</th>\n",
       "      <th>PE</th>\n",
       "      <th>TCN</th>\n",
       "    </tr>\n",
       "  </thead>\n",
       "  <tbody>\n",
       "    <tr>\n",
       "      <th>0</th>\n",
       "      <td>12.126o34286589265</td>\n",
       "      <td>52.813061</td>\n",
       "      <td>952.873086</td>\n",
       "      <td>95.05569</td>\n",
       "      <td>LOW</td>\n",
       "      <td>Simo Sikka</td>\n",
       "    </tr>\n",
       "    <tr>\n",
       "      <th>1</th>\n",
       "      <td>8.44</td>\n",
       "      <td>41.170000</td>\n",
       "      <td>1019.900000</td>\n",
       "      <td>70.72000</td>\n",
       "      <td>486.15</td>\n",
       "      <td>Marc Wolf</td>\n",
       "    </tr>\n",
       "    <tr>\n",
       "      <th>2</th>\n",
       "      <td>16.73</td>\n",
       "      <td>54.300000</td>\n",
       "      <td>1017.960000</td>\n",
       "      <td>59.44000</td>\n",
       "      <td>460.54</td>\n",
       "      <td>Christopher Clapman</td>\n",
       "    </tr>\n",
       "    <tr>\n",
       "      <th>3</th>\n",
       "      <td>24.91</td>\n",
       "      <td>71.290000</td>\n",
       "      <td>1008.290000</td>\n",
       "      <td>69.06000</td>\n",
       "      <td>437.03</td>\n",
       "      <td>Antoin Tessier</td>\n",
       "    </tr>\n",
       "    <tr>\n",
       "      <th>4</th>\n",
       "      <td>32.45</td>\n",
       "      <td>66.440000</td>\n",
       "      <td>1011.210000</td>\n",
       "      <td>50.18000</td>\n",
       "      <td>429.99</td>\n",
       "      <td>Antoin Tessier</td>\n",
       "    </tr>\n",
       "    <tr>\n",
       "      <th>...</th>\n",
       "      <td>...</td>\n",
       "      <td>...</td>\n",
       "      <td>...</td>\n",
       "      <td>...</td>\n",
       "      <td>...</td>\n",
       "      <td>...</td>\n",
       "    </tr>\n",
       "    <tr>\n",
       "      <th>10519</th>\n",
       "      <td>13.857337913o19988</td>\n",
       "      <td>42.661501</td>\n",
       "      <td>1110.707139</td>\n",
       "      <td>71.13719</td>\n",
       "      <td>LOW</td>\n",
       "      <td>Simo Sikka</td>\n",
       "    </tr>\n",
       "    <tr>\n",
       "      <th>10520</th>\n",
       "      <td>22.81</td>\n",
       "      <td>71.850000</td>\n",
       "      <td>1009.610000</td>\n",
       "      <td>75.17000</td>\n",
       "      <td>440.4</td>\n",
       "      <td>Marc Wolf</td>\n",
       "    </tr>\n",
       "    <tr>\n",
       "      <th>10521</th>\n",
       "      <td>17.o4</td>\n",
       "      <td>56.030000</td>\n",
       "      <td>1020.380000</td>\n",
       "      <td>68.69000</td>\n",
       "      <td>462.48</td>\n",
       "      <td>Marc Wolf</td>\n",
       "    </tr>\n",
       "    <tr>\n",
       "      <th>10522</th>\n",
       "      <td>19.o8</td>\n",
       "      <td>46.930000</td>\n",
       "      <td>1010.600000</td>\n",
       "      <td>75.21000</td>\n",
       "      <td>454.45</td>\n",
       "      <td>Antoin Tessier</td>\n",
       "    </tr>\n",
       "    <tr>\n",
       "      <th>10523</th>\n",
       "      <td>7.94</td>\n",
       "      <td>40.560000</td>\n",
       "      <td>1023.250000</td>\n",
       "      <td>80.84000</td>\n",
       "      <td>488.01</td>\n",
       "      <td>Marc Wolf</td>\n",
       "    </tr>\n",
       "  </tbody>\n",
       "</table>\n",
       "<p>10524 rows × 6 columns</p>\n",
       "</div>"
      ],
      "text/plain": [
       "                       AT          V           AP        RH      PE  \\\n",
       "0      12.126o34286589265  52.813061   952.873086  95.05569     LOW   \n",
       "1                    8.44  41.170000  1019.900000  70.72000  486.15   \n",
       "2                   16.73  54.300000  1017.960000  59.44000  460.54   \n",
       "3                   24.91  71.290000  1008.290000  69.06000  437.03   \n",
       "4                   32.45  66.440000  1011.210000  50.18000  429.99   \n",
       "...                   ...        ...          ...       ...     ...   \n",
       "10519  13.857337913o19988  42.661501  1110.707139  71.13719     LOW   \n",
       "10520               22.81  71.850000  1009.610000  75.17000   440.4   \n",
       "10521               17.o4  56.030000  1020.380000  68.69000  462.48   \n",
       "10522               19.o8  46.930000  1010.600000  75.21000  454.45   \n",
       "10523                7.94  40.560000  1023.250000  80.84000  488.01   \n",
       "\n",
       "                       TCN  \n",
       "0               Simo Sikka  \n",
       "1                Marc Wolf  \n",
       "2      Christopher Clapman  \n",
       "3           Antoin Tessier  \n",
       "4           Antoin Tessier  \n",
       "...                    ...  \n",
       "10519           Simo Sikka  \n",
       "10520            Marc Wolf  \n",
       "10521            Marc Wolf  \n",
       "10522       Antoin Tessier  \n",
       "10523            Marc Wolf  \n",
       "\n",
       "[10524 rows x 6 columns]"
      ]
     },
     "execution_count": 5,
     "metadata": {},
     "output_type": "execute_result"
    }
   ],
   "source": [
    "df = pd.read_csv('CP.csv')\n",
    "df"
   ]
  },
  {
   "cell_type": "markdown",
   "metadata": {},
   "source": [
    "### Variables\n",
    "Hourly average ambient variables Temperature (AT)- Float <br>\n",
    "Exhaust Vacuum (V)- Float <br>\n",
    "Ambient Pressure (AP) - Float <br>\n",
    "Relative Humidity (RH) - Float <br>\n",
    "Net hourly electrical energy output (PE) - Float <br>\n",
    "Technician (TCN) - String <br>"
   ]
  },
  {
   "cell_type": "code",
   "execution_count": 6,
   "metadata": {},
   "outputs": [
    {
     "name": "stderr",
     "output_type": "stream",
     "text": [
      "C:\\Users\\lucas\\anaconda3\\lib\\site-packages\\numpy\\lib\\histograms.py:839: RuntimeWarning: invalid value encountered in greater_equal\n",
      "  keep = (tmp_a >= first_edge)\n",
      "C:\\Users\\lucas\\anaconda3\\lib\\site-packages\\numpy\\lib\\histograms.py:840: RuntimeWarning: invalid value encountered in less_equal\n",
      "  keep &= (tmp_a <= last_edge)\n"
     ]
    },
    {
     "ename": "RuntimeError",
     "evalue": "The data contains non-finite values.",
     "output_type": "error",
     "traceback": [
      "\u001b[1;31m---------------------------------------------------------------------------\u001b[0m",
      "\u001b[1;31mRuntimeError\u001b[0m                              Traceback (most recent call last)",
      "\u001b[1;32m<ipython-input-6-c4529f78fcfe>\u001b[0m in \u001b[0;36m<module>\u001b[1;34m\u001b[0m\n\u001b[0;32m      3\u001b[0m \u001b[1;32mfrom\u001b[0m \u001b[0mscipy\u001b[0m\u001b[1;33m.\u001b[0m\u001b[0mstats\u001b[0m \u001b[1;32mimport\u001b[0m \u001b[0mnorm\u001b[0m\u001b[1;33m\u001b[0m\u001b[1;33m\u001b[0m\u001b[0m\n\u001b[0;32m      4\u001b[0m \u001b[1;33m\u001b[0m\u001b[0m\n\u001b[1;32m----> 5\u001b[1;33m \u001b[0mmean\u001b[0m\u001b[1;33m,\u001b[0m \u001b[0mstd\u001b[0m \u001b[1;33m=\u001b[0m \u001b[0mnorm\u001b[0m\u001b[1;33m.\u001b[0m\u001b[0mfit\u001b[0m\u001b[1;33m(\u001b[0m\u001b[0mdf\u001b[0m\u001b[1;33m[\u001b[0m\u001b[1;34m'AP'\u001b[0m\u001b[1;33m]\u001b[0m\u001b[1;33m)\u001b[0m\u001b[1;33m\u001b[0m\u001b[1;33m\u001b[0m\u001b[0m\n\u001b[0m",
      "\u001b[1;32m~\\anaconda3\\lib\\site-packages\\scipy\\stats\\_continuous_distns.py\u001b[0m in \u001b[0;36mfit\u001b[1;34m(self, data, **kwds)\u001b[0m\n\u001b[0;32m    286\u001b[0m \u001b[1;33m\u001b[0m\u001b[0m\n\u001b[0;32m    287\u001b[0m         \u001b[1;32mif\u001b[0m \u001b[1;32mnot\u001b[0m \u001b[0mnp\u001b[0m\u001b[1;33m.\u001b[0m\u001b[0misfinite\u001b[0m\u001b[1;33m(\u001b[0m\u001b[0mdata\u001b[0m\u001b[1;33m)\u001b[0m\u001b[1;33m.\u001b[0m\u001b[0mall\u001b[0m\u001b[1;33m(\u001b[0m\u001b[1;33m)\u001b[0m\u001b[1;33m:\u001b[0m\u001b[1;33m\u001b[0m\u001b[1;33m\u001b[0m\u001b[0m\n\u001b[1;32m--> 288\u001b[1;33m             \u001b[1;32mraise\u001b[0m \u001b[0mRuntimeError\u001b[0m\u001b[1;33m(\u001b[0m\u001b[1;34m\"The data contains non-finite values.\"\u001b[0m\u001b[1;33m)\u001b[0m\u001b[1;33m\u001b[0m\u001b[1;33m\u001b[0m\u001b[0m\n\u001b[0m\u001b[0;32m    289\u001b[0m \u001b[1;33m\u001b[0m\u001b[0m\n\u001b[0;32m    290\u001b[0m         \u001b[1;32mif\u001b[0m \u001b[0mfloc\u001b[0m \u001b[1;32mis\u001b[0m \u001b[1;32mNone\u001b[0m\u001b[1;33m:\u001b[0m\u001b[1;33m\u001b[0m\u001b[1;33m\u001b[0m\u001b[0m\n",
      "\u001b[1;31mRuntimeError\u001b[0m: The data contains non-finite values."
     ]
    },
    {
     "data": {
      "image/png": "[encoded data removed]",
      "text/plain": [
       "<Figure size 432x288 with 1 Axes>"
      ]
     },
     "metadata": {
      "needs_background": "light"
     },
     "output_type": "display_data"
    }
   ],
   "source": [
    "plt.hist(df['AP'], bins=100)\n",
    "\n",
    "from scipy.stats import norm\n",
    "\n",
    "mean, std = norm.fit(df['AP'])"
   ]
  },
  {
   "cell_type": "code",
   "execution_count": null,
   "metadata": {},
   "outputs": [],
   "source": [
    "plt.hist(df['RH'])"
   ]
  },
  {
   "cell_type": "code",
   "execution_count": 7,
   "metadata": {},
   "outputs": [
    {
     "data": {
      "text/plain": [
       "[<matplotlib.lines.Line2D at 0x19363ed5848>]"
      ]
     },
     "execution_count": 7,
     "metadata": {},
     "output_type": "execute_result"
    },
    {
     "data": {
      "image/png": "[encoded data removed]",
      "text/plain": [
       "<Figure size 432x288 with 1 Axes>"
      ]
     },
     "metadata": {
      "needs_background": "light"
     },
     "output_type": "display_data"
    }
   ],
   "source": [
    "plt.hist(df['V'],bins=100, density = True)\n",
    "\n",
    "from scipy.stats import norm\n",
    "\n",
    "mean, std = norm.fit(df['V'])\n",
    "\n",
    "import numpy as np\n",
    "x = np.linspace(30,80,100)\n",
    "y = norm.pdf(x, mean, std)\n",
    "\n",
    "plt.plot(x,y)"
   ]
  },
  {
   "cell_type": "markdown",
   "metadata": {},
   "source": [
    "As we can see, a Gaussian is not appropriate for our distribution"
   ]
  },
  {
   "cell_type": "code",
   "execution_count": 8,
   "metadata": {},
   "outputs": [
    {
     "data": {
      "text/plain": [
       "array([[<matplotlib.axes._subplots.AxesSubplot object at 0x00000193640B4E48>,\n",
       "        <matplotlib.axes._subplots.AxesSubplot object at 0x00000193640D5448>,\n",
       "        <matplotlib.axes._subplots.AxesSubplot object at 0x000001936410BC08>],\n",
       "       [<matplotlib.axes._subplots.AxesSubplot object at 0x0000019364145608>,\n",
       "        <matplotlib.axes._subplots.AxesSubplot object at 0x000001936417E048>,\n",
       "        <matplotlib.axes._subplots.AxesSubplot object at 0x000001935E819048>],\n",
       "       [<matplotlib.axes._subplots.AxesSubplot object at 0x0000019363D97308>,\n",
       "        <matplotlib.axes._subplots.AxesSubplot object at 0x0000019363D65808>,\n",
       "        <matplotlib.axes._subplots.AxesSubplot object at 0x0000019363D70588>]],\n",
       "      dtype=object)"
      ]
     },
     "execution_count": 8,
     "metadata": {},
     "output_type": "execute_result"
    },
    {
     "data": {
      "image/png": "[encoded data removed]",
      "text/plain": [
       "<Figure size 432x288 with 9 Axes>"
      ]
     },
     "metadata": {
      "needs_background": "light"
     },
     "output_type": "display_data"
    }
   ],
   "source": [
    "pd.plotting.scatter_matrix(df)"
   ]
  },
  {
   "cell_type": "markdown",
   "metadata": {},
   "source": [
    "## Task 2"
   ]
  },
  {
   "cell_type": "code",
   "execution_count": 24,
   "metadata": {},
   "outputs": [
    {
     "name": "stdout",
     "output_type": "stream",
     "text": [
      "<class 'pandas.core.frame.DataFrame'>\n",
      "Int64Index: 9501 entries, 1 to 10523\n",
      "Data columns (total 6 columns):\n",
      " #   Column  Non-Null Count  Dtype  \n",
      "---  ------  --------------  -----  \n",
      " 0   AT      9501 non-null   float64\n",
      " 1   V       9501 non-null   float64\n",
      " 2   AP      9501 non-null   float64\n",
      " 3   RH      9501 non-null   float64\n",
      " 4   PE      9501 non-null   object \n",
      " 5   TCN     9501 non-null   object \n",
      "dtypes: float64(4), object(2)\n",
      "memory usage: 519.6+ KB\n"
     ]
    }
   ],
   "source": [
    "df.info()"
   ]
  },
  {
   "cell_type": "code",
   "execution_count": 23,
   "metadata": {},
   "outputs": [
    {
     "data": {
      "text/html": [
       "<div>\n",
       "<style scoped>\n",
       "    .dataframe tbody tr th:only-of-type {\n",
       "        vertical-align: middle;\n",
       "    }\n",
       "\n",
       "    .dataframe tbody tr th {\n",
       "        vertical-align: top;\n",
       "    }\n",
       "\n",
       "    .dataframe thead th {\n",
       "        text-align: right;\n",
       "    }\n",
       "</style>\n",
       "<table border=\"1\" class=\"dataframe\">\n",
       "  <thead>\n",
       "    <tr style=\"text-align: right;\">\n",
       "      <th></th>\n",
       "      <th>AT</th>\n",
       "      <th>V</th>\n",
       "      <th>AP</th>\n",
       "      <th>RH</th>\n",
       "    </tr>\n",
       "  </thead>\n",
       "  <tbody>\n",
       "    <tr>\n",
       "      <th>count</th>\n",
       "      <td>9501.000000</td>\n",
       "      <td>9501.000000</td>\n",
       "      <td>9501.000000</td>\n",
       "      <td>9501.000000</td>\n",
       "    </tr>\n",
       "    <tr>\n",
       "      <th>mean</th>\n",
       "      <td>31.253275</td>\n",
       "      <td>54.343103</td>\n",
       "      <td>1013.072421</td>\n",
       "      <td>73.147500</td>\n",
       "    </tr>\n",
       "    <tr>\n",
       "      <th>std</th>\n",
       "      <td>22.433336</td>\n",
       "      <td>12.722495</td>\n",
       "      <td>21.562838</td>\n",
       "      <td>14.502286</td>\n",
       "    </tr>\n",
       "    <tr>\n",
       "      <th>min</th>\n",
       "      <td>1.810000</td>\n",
       "      <td>25.360000</td>\n",
       "      <td>-1007.220000</td>\n",
       "      <td>25.560000</td>\n",
       "    </tr>\n",
       "    <tr>\n",
       "      <th>25%</th>\n",
       "      <td>15.290000</td>\n",
       "      <td>41.700000</td>\n",
       "      <td>1009.130000</td>\n",
       "      <td>63.230000</td>\n",
       "    </tr>\n",
       "    <tr>\n",
       "      <th>50%</th>\n",
       "      <td>24.050000</td>\n",
       "      <td>52.360000</td>\n",
       "      <td>1012.970000</td>\n",
       "      <td>74.840000</td>\n",
       "    </tr>\n",
       "    <tr>\n",
       "      <th>75%</th>\n",
       "      <td>33.170000</td>\n",
       "      <td>66.540000</td>\n",
       "      <td>1017.290000</td>\n",
       "      <td>84.650000</td>\n",
       "    </tr>\n",
       "    <tr>\n",
       "      <th>max</th>\n",
       "      <td>95.180000</td>\n",
       "      <td>81.560000</td>\n",
       "      <td>1033.300000</td>\n",
       "      <td>100.000000</td>\n",
       "    </tr>\n",
       "  </tbody>\n",
       "</table>\n",
       "</div>"
      ],
      "text/plain": [
       "                AT            V           AP           RH\n",
       "count  9501.000000  9501.000000  9501.000000  9501.000000\n",
       "mean     31.253275    54.343103  1013.072421    73.147500\n",
       "std      22.433336    12.722495    21.562838    14.502286\n",
       "min       1.810000    25.360000 -1007.220000    25.560000\n",
       "25%      15.290000    41.700000  1009.130000    63.230000\n",
       "50%      24.050000    52.360000  1012.970000    74.840000\n",
       "75%      33.170000    66.540000  1017.290000    84.650000\n",
       "max      95.180000    81.560000  1033.300000   100.000000"
      ]
     },
     "execution_count": 23,
     "metadata": {},
     "output_type": "execute_result"
    }
   ],
   "source": [
    "df = df[df.AP < 100000.00]\n",
    "df = df[df.RH <= 100]\n",
    "df.describe()"
   ]
  },
  {
   "cell_type": "code",
   "execution_count": 10,
   "metadata": {},
   "outputs": [
    {
     "data": {
      "text/plain": [
       "AT     10514\n",
       "V      10514\n",
       "AP     10514\n",
       "RH     10514\n",
       "PE     10514\n",
       "TCN    10514\n",
       "dtype: int64"
      ]
     },
     "execution_count": 10,
     "metadata": {},
     "output_type": "execute_result"
    }
   ],
   "source": [
    "df = df.dropna()\n",
    "df.count()"
   ]
  },
  {
   "cell_type": "code",
   "execution_count": 11,
   "metadata": {},
   "outputs": [],
   "source": [
    "df = df[df.PE != 'LOW']"
   ]
  },
  {
   "cell_type": "code",
   "execution_count": 12,
   "metadata": {},
   "outputs": [
    {
     "data": {
      "text/plain": [
       "1         8.44\n",
       "2        16.73\n",
       "3        24.91\n",
       "4        32.45\n",
       "5        17.45\n",
       "         ...  \n",
       "10518     19.o\n",
       "10520    22.81\n",
       "10521    17.o4\n",
       "10522    19.o8\n",
       "10523     7.94\n",
       "Name: AT, Length: 9559, dtype: object"
      ]
     },
     "execution_count": 12,
     "metadata": {},
     "output_type": "execute_result"
    }
   ],
   "source": [
    "df.AT"
   ]
  },
  {
   "cell_type": "code",
   "execution_count": 13,
   "metadata": {},
   "outputs": [],
   "source": [
    "df['AT'] = df['AT'].str.replace('o','0')"
   ]
  },
  {
   "cell_type": "code",
   "execution_count": 16,
   "metadata": {},
   "outputs": [],
   "source": [
    "df['AT'] = df['AT'].astype(float)"
   ]
  },
  {
   "cell_type": "code",
   "execution_count": 25,
   "metadata": {},
   "outputs": [
    {
     "data": {
      "text/plain": [
       "<matplotlib.axes._subplots.AxesSubplot at 0x19363ea4908>"
      ]
     },
     "execution_count": 25,
     "metadata": {},
     "output_type": "execute_result"
    },
    {
     "data": {
      "image/png": "[encoded data removed]",
      "text/plain": [
       "<Figure size 432x288 with 1 Axes>"
      ]
     },
     "metadata": {
      "needs_background": "light"
     },
     "output_type": "display_data"
    }
   ],
   "source": [
    "df['AT'].hist()"
   ]
  },
  {
   "cell_type": "code",
   "execution_count": 32,
   "metadata": {},
   "outputs": [],
   "source": [
    "df['PE'] = df['PE'].astype(float)\n",
    "df = df[df.PE < 1000]\n",
    "df = df[df.PE > 0]"
   ]
  },
  {
   "cell_type": "code",
   "execution_count": 33,
   "metadata": {},
   "outputs": [
    {
     "data": {
      "text/html": [
       "<div>\n",
       "<style scoped>\n",
       "    .dataframe tbody tr th:only-of-type {\n",
       "        vertical-align: middle;\n",
       "    }\n",
       "\n",
       "    .dataframe tbody tr th {\n",
       "        vertical-align: top;\n",
       "    }\n",
       "\n",
       "    .dataframe thead th {\n",
       "        text-align: right;\n",
       "    }\n",
       "</style>\n",
       "<table border=\"1\" class=\"dataframe\">\n",
       "  <thead>\n",
       "    <tr style=\"text-align: right;\">\n",
       "      <th></th>\n",
       "      <th>AT</th>\n",
       "      <th>V</th>\n",
       "      <th>AP</th>\n",
       "      <th>RH</th>\n",
       "      <th>PE</th>\n",
       "    </tr>\n",
       "  </thead>\n",
       "  <tbody>\n",
       "    <tr>\n",
       "      <th>count</th>\n",
       "      <td>9498.000000</td>\n",
       "      <td>9498.000000</td>\n",
       "      <td>9498.000000</td>\n",
       "      <td>9498.000000</td>\n",
       "      <td>9498.000000</td>\n",
       "    </tr>\n",
       "    <tr>\n",
       "      <th>mean</th>\n",
       "      <td>31.248312</td>\n",
       "      <td>54.344934</td>\n",
       "      <td>1013.071505</td>\n",
       "      <td>73.146096</td>\n",
       "      <td>454.349744</td>\n",
       "    </tr>\n",
       "    <tr>\n",
       "      <th>std</th>\n",
       "      <td>22.430940</td>\n",
       "      <td>12.723144</td>\n",
       "      <td>21.566038</td>\n",
       "      <td>14.504150</td>\n",
       "      <td>17.107311</td>\n",
       "    </tr>\n",
       "    <tr>\n",
       "      <th>min</th>\n",
       "      <td>1.810000</td>\n",
       "      <td>25.360000</td>\n",
       "      <td>-1007.220000</td>\n",
       "      <td>25.560000</td>\n",
       "      <td>420.260000</td>\n",
       "    </tr>\n",
       "    <tr>\n",
       "      <th>25%</th>\n",
       "      <td>15.290000</td>\n",
       "      <td>41.710000</td>\n",
       "      <td>1009.130000</td>\n",
       "      <td>63.230000</td>\n",
       "      <td>439.710000</td>\n",
       "    </tr>\n",
       "    <tr>\n",
       "      <th>50%</th>\n",
       "      <td>24.050000</td>\n",
       "      <td>52.360000</td>\n",
       "      <td>1012.970000</td>\n",
       "      <td>74.845000</td>\n",
       "      <td>451.480000</td>\n",
       "    </tr>\n",
       "    <tr>\n",
       "      <th>75%</th>\n",
       "      <td>33.150000</td>\n",
       "      <td>66.540000</td>\n",
       "      <td>1017.287500</td>\n",
       "      <td>84.657500</td>\n",
       "      <td>468.485000</td>\n",
       "    </tr>\n",
       "    <tr>\n",
       "      <th>max</th>\n",
       "      <td>95.180000</td>\n",
       "      <td>81.560000</td>\n",
       "      <td>1033.300000</td>\n",
       "      <td>100.000000</td>\n",
       "      <td>495.760000</td>\n",
       "    </tr>\n",
       "  </tbody>\n",
       "</table>\n",
       "</div>"
      ],
      "text/plain": [
       "                AT            V           AP           RH           PE\n",
       "count  9498.000000  9498.000000  9498.000000  9498.000000  9498.000000\n",
       "mean     31.248312    54.344934  1013.071505    73.146096   454.349744\n",
       "std      22.430940    12.723144    21.566038    14.504150    17.107311\n",
       "min       1.810000    25.360000 -1007.220000    25.560000   420.260000\n",
       "25%      15.290000    41.710000  1009.130000    63.230000   439.710000\n",
       "50%      24.050000    52.360000  1012.970000    74.845000   451.480000\n",
       "75%      33.150000    66.540000  1017.287500    84.657500   468.485000\n",
       "max      95.180000    81.560000  1033.300000   100.000000   495.760000"
      ]
     },
     "execution_count": 33,
     "metadata": {},
     "output_type": "execute_result"
    }
   ],
   "source": [
    "df.describe()"
   ]
  },
  {
   "cell_type": "markdown",
   "metadata": {},
   "source": [
    "## Task 3"
   ]
  },
  {
   "cell_type": "code",
   "execution_count": 34,
   "metadata": {},
   "outputs": [
    {
     "data": {
      "text/plain": [
       "<matplotlib.collections.PathCollection at 0x193641d9208>"
      ]
     },
     "execution_count": 34,
     "metadata": {},
     "output_type": "execute_result"
    },
    {
     "data": {
      "image/png": "[encoded data removed]",
      "text/plain": [
       "<Figure size 432x288 with 1 Axes>"
      ]
     },
     "metadata": {
      "needs_background": "light"
     },
     "output_type": "display_data"
    }
   ],
   "source": [
    "plt.scatter(df.V, df.PE)"
   ]
  },
  {
   "cell_type": "code",
   "execution_count": 46,
   "metadata": {},
   "outputs": [
    {
     "data": {
      "text/plain": [
       "<matplotlib.legend.Legend at 0x193656efc48>"
      ]
     },
     "execution_count": 46,
     "metadata": {},
     "output_type": "execute_result"
    },
    {
     "data": {
      "image/png": "[encoded data removed]",
      "text/plain": [
       "<Figure size 432x288 with 1 Axes>"
      ]
     },
     "metadata": {
      "needs_background": "light"
     },
     "output_type": "display_data"
    }
   ],
   "source": [
    "datasets = dict()\n",
    "\n",
    "for name in df.TCN.unique(): # gives all unique values in TCN columns\n",
    "    datasets[name] = df[df['TCN'] == name]\n",
    "    plt.scatter(datasets[name].AT, datasets[name].PE, label=name)\n",
    "\n",
    "plt.legend()\n",
    "\n",
    "### \n",
    "#Maybe the values of Daniel Smithson are in another unit.\n",
    "#Therefore, we must convert it. \n",
    "#By the x-axis, we can see that probably 'Red points'(Daniel Smithson) are in Fahrenheit degrees, while the rest is in Celcius.\n",
    "###"
   ]
  },
  {
   "cell_type": "code",
   "execution_count": 47,
   "metadata": {},
   "outputs": [],
   "source": [
    "# Converting F to C in \"Daniel Smithson\" rows\n",
    "\n",
    "def corrector(row):\n",
    "    if row['TCN'] == 'Daniel Smithson':\n",
    "        return (row['AT']-32)*5/9\n",
    "    else:\n",
    "        return row['AT']\n",
    "    \n",
    "df.AT = df.apply(corrector, axis = 1)\n",
    "        "
   ]
  },
  {
   "cell_type": "code",
   "execution_count": 48,
   "metadata": {},
   "outputs": [
    {
     "data": {
      "text/plain": [
       "<matplotlib.legend.Legend at 0x1936576cc08>"
      ]
     },
     "execution_count": 48,
     "metadata": {},
     "output_type": "execute_result"
    },
    {
     "data": {
      "image/png": "[encoded data removed]",
      "text/plain": [
       "<Figure size 432x288 with 1 Axes>"
      ]
     },
     "metadata": {
      "needs_background": "light"
     },
     "output_type": "display_data"
    }
   ],
   "source": [
    "for name in df.TCN.unique(): # gives all unique values in TCN columns\n",
    "    datasets[name] = df[df['TCN'] == name]\n",
    "    plt.scatter(datasets[name].AT, datasets[name].PE, label=name)\n",
    "\n",
    "plt.legend()\n"
   ]
  },
  {
   "cell_type": "markdown",
   "metadata": {},
   "source": [
    "## Task 4"
   ]
  },
  {
   "cell_type": "code",
   "execution_count": 53,
   "metadata": {},
   "outputs": [
    {
     "data": {
      "text/plain": [
       "array(['Marc Wolf', 'Christopher Clapman', 'Antoin Tessier',\n",
       "       'Daniel Smithson'], dtype=object)"
      ]
     },
     "execution_count": 53,
     "metadata": {},
     "output_type": "execute_result"
    }
   ],
   "source": [
    "# we must encode the names of the technicians\n",
    "df['TCN'].unique()"
   ]
  },
  {
   "cell_type": "code",
   "execution_count": 54,
   "metadata": {},
   "outputs": [],
   "source": [
    "pseudonyms = dict()\n",
    "\n",
    "i = 0\n",
    "for name in df.TCN.unique():\n",
    "    pseudonyms[name] = i\n",
    "    i += 1"
   ]
  },
  {
   "cell_type": "code",
   "execution_count": 55,
   "metadata": {},
   "outputs": [
    {
     "data": {
      "text/plain": [
       "{'Marc Wolf': 0,\n",
       " 'Christopher Clapman': 1,\n",
       " 'Antoin Tessier': 2,\n",
       " 'Daniel Smithson': 3}"
      ]
     },
     "execution_count": 55,
     "metadata": {},
     "output_type": "execute_result"
    }
   ],
   "source": [
    "pseudonyms "
   ]
  },
  {
   "cell_type": "code",
   "execution_count": 56,
   "metadata": {},
   "outputs": [],
   "source": [
    "df.TCN = df.TCN.apply(lambda x: pseudonyms[x])"
   ]
  },
  {
   "cell_type": "code",
   "execution_count": 57,
   "metadata": {},
   "outputs": [
    {
     "data": {
      "text/html": [
       "<div>\n",
       "<style scoped>\n",
       "    .dataframe tbody tr th:only-of-type {\n",
       "        vertical-align: middle;\n",
       "    }\n",
       "\n",
       "    .dataframe tbody tr th {\n",
       "        vertical-align: top;\n",
       "    }\n",
       "\n",
       "    .dataframe thead th {\n",
       "        text-align: right;\n",
       "    }\n",
       "</style>\n",
       "<table border=\"1\" class=\"dataframe\">\n",
       "  <thead>\n",
       "    <tr style=\"text-align: right;\">\n",
       "      <th></th>\n",
       "      <th>AT</th>\n",
       "      <th>V</th>\n",
       "      <th>AP</th>\n",
       "      <th>RH</th>\n",
       "      <th>PE</th>\n",
       "      <th>TCN</th>\n",
       "    </tr>\n",
       "  </thead>\n",
       "  <tbody>\n",
       "    <tr>\n",
       "      <th>1</th>\n",
       "      <td>8.44</td>\n",
       "      <td>41.17</td>\n",
       "      <td>1019.90</td>\n",
       "      <td>70.72</td>\n",
       "      <td>486.15</td>\n",
       "      <td>0</td>\n",
       "    </tr>\n",
       "    <tr>\n",
       "      <th>2</th>\n",
       "      <td>16.73</td>\n",
       "      <td>54.30</td>\n",
       "      <td>1017.96</td>\n",
       "      <td>59.44</td>\n",
       "      <td>460.54</td>\n",
       "      <td>1</td>\n",
       "    </tr>\n",
       "    <tr>\n",
       "      <th>3</th>\n",
       "      <td>24.91</td>\n",
       "      <td>71.29</td>\n",
       "      <td>1008.29</td>\n",
       "      <td>69.06</td>\n",
       "      <td>437.03</td>\n",
       "      <td>2</td>\n",
       "    </tr>\n",
       "    <tr>\n",
       "      <th>4</th>\n",
       "      <td>32.45</td>\n",
       "      <td>66.44</td>\n",
       "      <td>1011.21</td>\n",
       "      <td>50.18</td>\n",
       "      <td>429.99</td>\n",
       "      <td>2</td>\n",
       "    </tr>\n",
       "    <tr>\n",
       "      <th>5</th>\n",
       "      <td>17.45</td>\n",
       "      <td>49.64</td>\n",
       "      <td>1026.40</td>\n",
       "      <td>66.67</td>\n",
       "      <td>454.67</td>\n",
       "      <td>1</td>\n",
       "    </tr>\n",
       "    <tr>\n",
       "      <th>...</th>\n",
       "      <td>...</td>\n",
       "      <td>...</td>\n",
       "      <td>...</td>\n",
       "      <td>...</td>\n",
       "      <td>...</td>\n",
       "      <td>...</td>\n",
       "    </tr>\n",
       "    <tr>\n",
       "      <th>10518</th>\n",
       "      <td>19.00</td>\n",
       "      <td>58.95</td>\n",
       "      <td>1018.05</td>\n",
       "      <td>83.38</td>\n",
       "      <td>451.96</td>\n",
       "      <td>1</td>\n",
       "    </tr>\n",
       "    <tr>\n",
       "      <th>10520</th>\n",
       "      <td>22.81</td>\n",
       "      <td>71.85</td>\n",
       "      <td>1009.61</td>\n",
       "      <td>75.17</td>\n",
       "      <td>440.40</td>\n",
       "      <td>0</td>\n",
       "    </tr>\n",
       "    <tr>\n",
       "      <th>10521</th>\n",
       "      <td>17.04</td>\n",
       "      <td>56.03</td>\n",
       "      <td>1020.38</td>\n",
       "      <td>68.69</td>\n",
       "      <td>462.48</td>\n",
       "      <td>0</td>\n",
       "    </tr>\n",
       "    <tr>\n",
       "      <th>10522</th>\n",
       "      <td>19.08</td>\n",
       "      <td>46.93</td>\n",
       "      <td>1010.60</td>\n",
       "      <td>75.21</td>\n",
       "      <td>454.45</td>\n",
       "      <td>2</td>\n",
       "    </tr>\n",
       "    <tr>\n",
       "      <th>10523</th>\n",
       "      <td>7.94</td>\n",
       "      <td>40.56</td>\n",
       "      <td>1023.25</td>\n",
       "      <td>80.84</td>\n",
       "      <td>488.01</td>\n",
       "      <td>0</td>\n",
       "    </tr>\n",
       "  </tbody>\n",
       "</table>\n",
       "<p>9498 rows × 6 columns</p>\n",
       "</div>"
      ],
      "text/plain": [
       "          AT      V       AP     RH      PE  TCN\n",
       "1       8.44  41.17  1019.90  70.72  486.15    0\n",
       "2      16.73  54.30  1017.96  59.44  460.54    1\n",
       "3      24.91  71.29  1008.29  69.06  437.03    2\n",
       "4      32.45  66.44  1011.21  50.18  429.99    2\n",
       "5      17.45  49.64  1026.40  66.67  454.67    1\n",
       "...      ...    ...      ...    ...     ...  ...\n",
       "10518  19.00  58.95  1018.05  83.38  451.96    1\n",
       "10520  22.81  71.85  1009.61  75.17  440.40    0\n",
       "10521  17.04  56.03  1020.38  68.69  462.48    0\n",
       "10522  19.08  46.93  1010.60  75.21  454.45    2\n",
       "10523   7.94  40.56  1023.25  80.84  488.01    0\n",
       "\n",
       "[9498 rows x 6 columns]"
      ]
     },
     "execution_count": 57,
     "metadata": {},
     "output_type": "execute_result"
    }
   ],
   "source": [
    "df"
   ]
  },
  {
   "cell_type": "code",
   "execution_count": null,
   "metadata": {},
   "outputs": [],
   "source": []
  }
 ],
 "metadata": {
  "kernelspec": {
   "display_name": "Python 3",
   "language": "python",
   "name": "python3"
  },
  "language_info": {
   "codemirror_mode": {
    "name": "ipython",
    "version": 3
   },
   "file_extension": ".py",
   "mimetype": "text/x-python",
   "name": "python",
   "nbconvert_exporter": "python",
   "pygments_lexer": "ipython3",
   "version": "3.7.6"
  }
 },
 "nbformat": 4,
 "nbformat_minor": 4
}
